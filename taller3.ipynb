{
 "cells": [
  {
   "cell_type": "markdown",
   "metadata": {},
   "source": [
    "<img src='https://encrypted-tbn0.gstatic.com/images?q=tbn%3AANd9GcQ-VfNtOyJbsaxu43Kztf_cv1mgBG6ZIQZEVw&usqp=CAU'>\n",
    "\n",
    "# Procesamiento de Lenguage Natural\n",
    "\n",
    "## Taller #3: Web Scraping\n",
    "`Fecha de entrega: Marzo 10, 2021. (Antes del inicio de la próxima clase).`"
   ]
  },
  {
   "cell_type": "markdown",
   "metadata": {},
   "source": [
    "# Punto 1:\n",
    "\n",
    "- `[15 pts]` Hacer Web Scraping de 10 animales en Wikipedia (en búcle)\n",
    "- `[10 pts]` Obtener el **encabezado** de cada animal\n",
    "- `[15 pts]` Obtener todos los **textos** que están en las etiquetas de negrilla."
   ]
  },
  {
   "cell_type": "code",
   "execution_count": 1,
   "metadata": {},
   "outputs": [],
   "source": [
    "import bs4 as bs \n",
    "import urllib.request\n",
    "import requests\n",
    "import shutil\n",
    "import matplotlib.pyplot as plt\n",
    "import matplotlib.image as mpim"
   ]
  },
  {
   "cell_type": "code",
   "execution_count": 2,
   "metadata": {},
   "outputs": [],
   "source": [
    "pokemon = [\"https://en.wikipedia.org/wiki/Entei\", \"https://en.wikipedia.org/wiki/Lucario\", \"https://en.wikipedia.org/wiki/Arceus\",\n",
    "         \"https://en.wikipedia.org/wiki/Gyarados\", \"https://en.wikipedia.org/wiki/Eevee\", \"https://en.wikipedia.org/wiki/Lapras\",\n",
    "         \"https://en.wikipedia.org/wiki/Chikorita\", \"https://en.wikipedia.org/wiki/Pichu\", \"https://en.wikipedia.org/wiki/Togepi\",\n",
    "         \"https://en.wikipedia.org/wiki/Lugia\"]"
   ]
  },
  {
   "cell_type": "code",
   "execution_count": 3,
   "metadata": {},
   "outputs": [],
   "source": [
    "pokemon_links = []\n",
    "\n",
    "for poke in pokemon:\n",
    "    request = urllib.request.Request(poke, headers={\"User-Agent\": \"Mozilla/50.0\"})\n",
    "    webpage = urllib.request.urlopen(request)\n",
    "    source = webpage.read()\n",
    "    pokemon_links.append(source)\n",
    "    webpage.close()"
   ]
  },
  {
   "cell_type": "code",
   "execution_count": 4,
   "metadata": {},
   "outputs": [],
   "source": [
    "# pokemon_links[0]"
   ]
  },
  {
   "cell_type": "code",
   "execution_count": 5,
   "metadata": {},
   "outputs": [],
   "source": [
    "# Cleaning links\n",
    "\n",
    "pokemon_list_cleaned = []\n",
    "\n",
    "for poke in pokemon_links:\n",
    "    cleaned_link = bs.BeautifulSoup(poke, \"html.parser\")\n",
    "    pokemon_list_cleaned.append(cleaned_link)"
   ]
  },
  {
   "cell_type": "code",
   "execution_count": 6,
   "metadata": {},
   "outputs": [
    {
     "data": {
      "text/plain": [
       "10"
      ]
     },
     "execution_count": 6,
     "metadata": {},
     "output_type": "execute_result"
    }
   ],
   "source": [
    "len(pokemon_list_cleaned)"
   ]
  },
  {
   "cell_type": "code",
   "execution_count": 7,
   "metadata": {},
   "outputs": [],
   "source": [
    "# pokemon_list_cleaned[0]"
   ]
  },
  {
   "cell_type": "code",
   "execution_count": 8,
   "metadata": {
    "scrolled": false
   },
   "outputs": [
    {
     "name": "stdout",
     "output_type": "stream",
     "text": [
      "Entei\n",
      "Lucario\n",
      "Arceus\n",
      "Gyarados\n",
      "Eevee\n",
      "Lapras\n",
      "Chikorita\n",
      "Pichu\n",
      "Togepi\n",
      "Lugia\n"
     ]
    }
   ],
   "source": [
    "#Getting the Pokemon name\n",
    "\n",
    "def getting_the_name(lista_de_pokemon):\n",
    "    for pokemon in lista_de_pokemon:\n",
    "        print(pokemon.find(id=\"firstHeading\").text)\n",
    "        \n",
    "getting_the_name(pokemon_list_cleaned)"
   ]
  },
  {
   "cell_type": "markdown",
   "metadata": {},
   "source": [
    "# Punto 2:\n",
    "- `[10 pts]` Usando regex, reemplazar todas las tíldes del punto anterior por un asterisco (¡Ojo, los espacios se quedan!)\n"
   ]
  },
  {
   "cell_type": "code",
   "execution_count": 9,
   "metadata": {},
   "outputs": [],
   "source": [
    "# Entei = pokemon_list_cleaned[0].findAll('img', class_=\"image\")"
   ]
  },
  {
   "cell_type": "code",
   "execution_count": 29,
   "metadata": {},
   "outputs": [],
   "source": [
    "Entei2 = pokemon_list_cleaned[0].findAll('img', alt=\"Pokémon Entei art.png\")[0]"
   ]
  },
  {
   "cell_type": "code",
   "execution_count": 32,
   "metadata": {},
   "outputs": [
    {
     "data": {
      "text/plain": [
       "bs4.element.Tag"
      ]
     },
     "execution_count": 32,
     "metadata": {},
     "output_type": "execute_result"
    }
   ],
   "source": [
    "Entei2"
   ]
  },
  {
   "cell_type": "code",
   "execution_count": 13,
   "metadata": {
    "scrolled": true
   },
   "outputs": [
    {
     "data": {
      "text/plain": [
       "'//upload.wikimedia.org/wikipedia/en/1/19/Pok%C3%A9mon_Entei_art.png'"
      ]
     },
     "execution_count": 13,
     "metadata": {},
     "output_type": "execute_result"
    }
   ],
   "source": [
    "Entei2.attrs['src']"
   ]
  },
  {
   "cell_type": "code",
   "execution_count": 24,
   "metadata": {},
   "outputs": [],
   "source": [
    "full_url2 = \"https://en.wikipedia.org/wiki/Entei#/media/File:Pok%C3%A9mon_Entei_art.png\""
   ]
  },
  {
   "cell_type": "code",
   "execution_count": 27,
   "metadata": {},
   "outputs": [],
   "source": [
    "url_base = \"https://en.wikipedia.org/wiki/Entei\"\n",
    "url_ext = Entei2.attrs['src']\n",
    "full_url = url_base + url_ext\n",
    "r = requests.get(full_url, stream=True)"
   ]
  },
  {
   "cell_type": "code",
   "execution_count": 28,
   "metadata": {},
   "outputs": [
    {
     "data": {
      "text/plain": [
       "'https://en.wikipedia.org/wiki/Entei//upload.wikimedia.org/wikipedia/en/1/19/Pok%C3%A9mon_Entei_art.png'"
      ]
     },
     "execution_count": 28,
     "metadata": {},
     "output_type": "execute_result"
    }
   ],
   "source": [
    "full_url"
   ]
  },
  {
   "cell_type": "code",
   "execution_count": 21,
   "metadata": {},
   "outputs": [],
   "source": [
    "if r.status_code == 200:                     #200 status code = OK\n",
    "    with open(\"Pok%C3%A9mon_Entei_art.png\", 'wb') as f: \n",
    "        r.raw.decode_content = True\n",
    "        shutil.copyfileobj(r.raw, f)"
   ]
  },
  {
   "cell_type": "code",
   "execution_count": 22,
   "metadata": {},
   "outputs": [
    {
     "ename": "SyntaxError",
     "evalue": "not a PNG file (<string>)",
     "output_type": "error",
     "traceback": [
      "Traceback \u001b[0;36m(most recent call last)\u001b[0m:\n",
      "  File \u001b[1;32m\"/home/eacardenase/anaconda3/lib/python3.8/site-packages/IPython/core/interactiveshell.py\"\u001b[0m, line \u001b[1;32m3437\u001b[0m, in \u001b[1;35mrun_code\u001b[0m\n    exec(code_obj, self.user_global_ns, self.user_ns)\n",
      "  File \u001b[1;32m\"<ipython-input-22-3123009f0c44>\"\u001b[0m, line \u001b[1;32m1\u001b[0m, in \u001b[1;35m<module>\u001b[0m\n    img = mpim.imread('Pok%C3%A9mon_Entei_art.png')\n",
      "  File \u001b[1;32m\"/home/eacardenase/anaconda3/lib/python3.8/site-packages/matplotlib/image.py\"\u001b[0m, line \u001b[1;32m1496\u001b[0m, in \u001b[1;35mimread\u001b[0m\n    with img_open(fname) as image:\n",
      "  File \u001b[1;32m\"/home/eacardenase/anaconda3/lib/python3.8/site-packages/PIL/ImageFile.py\"\u001b[0m, line \u001b[1;32m121\u001b[0m, in \u001b[1;35m__init__\u001b[0m\n    self._open()\n",
      "\u001b[0;36m  File \u001b[0;32m\"/home/eacardenase/anaconda3/lib/python3.8/site-packages/PIL/PngImagePlugin.py\"\u001b[0;36m, line \u001b[0;32m676\u001b[0;36m, in \u001b[0;35m_open\u001b[0;36m\u001b[0m\n\u001b[0;31m    raise SyntaxError(\"not a PNG file\")\u001b[0m\n",
      "\u001b[0;36m  File \u001b[0;32m\"<string>\"\u001b[0;36m, line \u001b[0;32munknown\u001b[0m\n\u001b[0;31mSyntaxError\u001b[0m\u001b[0;31m:\u001b[0m not a PNG file\n"
     ]
    }
   ],
   "source": [
    "img = mpim.imread('Pok%C3%A9mon_Entei_art.png')\n",
    "imgplot = plt.imshow(img)\n",
    "plt.show()"
   ]
  },
  {
   "cell_type": "code",
   "execution_count": null,
   "metadata": {},
   "outputs": [],
   "source": []
  }
 ],
 "metadata": {
  "kernelspec": {
   "display_name": "Python 3",
   "language": "python",
   "name": "python3"
  },
  "language_info": {
   "codemirror_mode": {
    "name": "ipython",
    "version": 3
   },
   "file_extension": ".py",
   "mimetype": "text/x-python",
   "name": "python",
   "nbconvert_exporter": "python",
   "pygments_lexer": "ipython3",
   "version": "3.8.8"
  }
 },
 "nbformat": 4,
 "nbformat_minor": 2
}
