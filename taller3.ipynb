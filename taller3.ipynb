{
 "cells": [
  {
   "cell_type": "markdown",
   "metadata": {},
   "source": [
    "<img src='https://encrypted-tbn0.gstatic.com/images?q=tbn%3AANd9GcQ-VfNtOyJbsaxu43Kztf_cv1mgBG6ZIQZEVw&usqp=CAU'>\n",
    "\n",
    "# Procesamiento de Lenguage Natural\n",
    "\n",
    "## Taller #3: Web Scraping\n",
    "`Fecha de entrega: Marzo 10, 2021. (Antes del inicio de la próxima clase).`"
   ]
  },
  {
   "cell_type": "markdown",
   "metadata": {},
   "source": [
    "# Punto 1:\n",
    "\n",
    "- `[15 pts]` Hacer Web Scraping de 10 animales en Wikipedia (en búcle)\n",
    "- `[10 pts]` Obtener el **encabezado** de cada animal\n",
    "- `[15 pts]` Obtener todos los **textos** que están en las etiquetas de negrilla."
   ]
  },
  {
   "cell_type": "code",
   "execution_count": 1,
   "metadata": {},
   "outputs": [],
   "source": [
    "import bs4 as bs \n",
    "import urllib.request\n",
    "import requests\n",
    "import shutil\n",
    "import matplotlib.pyplot as plt\n",
    "import matplotlib.image as mpim"
   ]
  },
  {
   "cell_type": "code",
   "execution_count": 2,
   "metadata": {},
   "outputs": [],
   "source": [
    "pokemon = [\"https://en.wikipedia.org/wiki/Entei\", \"https://en.wikipedia.org/wiki/Lucario\", \"https://en.wikipedia.org/wiki/Arceus\",\n",
    "         \"https://en.wikipedia.org/wiki/Gyarados\", \"https://en.wikipedia.org/wiki/Eevee\", \"https://en.wikipedia.org/wiki/Lapras\",\n",
    "         \"https://en.wikipedia.org/wiki/Chikorita\", \"https://en.wikipedia.org/wiki/Pichu\", \"https://en.wikipedia.org/wiki/Togepi\",\n",
    "         \"https://en.wikipedia.org/wiki/Lugia\"]"
   ]
  },
  {
   "cell_type": "code",
   "execution_count": 3,
   "metadata": {},
   "outputs": [],
   "source": [
    "pokemon_links = []\n",
    "\n",
    "for poke in pokemon:\n",
    "    request = urllib.request.Request(poke, headers={\"User-Agent\": \"Mozilla/50.0\"})\n",
    "    webpage = urllib.request.urlopen(request)\n",
    "    source = webpage.read()\n",
    "    pokemon_links.append(source)\n",
    "    webpage.close()"
   ]
  },
  {
   "cell_type": "code",
   "execution_count": 4,
   "metadata": {},
   "outputs": [],
   "source": [
    "# pokemon_links[0]"
   ]
  },
  {
   "cell_type": "code",
   "execution_count": 5,
   "metadata": {},
   "outputs": [],
   "source": [
    "# Cleaning links\n",
    "\n",
    "pokemon_list_cleaned = []\n",
    "\n",
    "for poke in pokemon_links:\n",
    "    cleaned_link = bs.BeautifulSoup(poke, \"html.parser\")\n",
    "    pokemon_list_cleaned.append(cleaned_link)"
   ]
  },
  {
   "cell_type": "code",
   "execution_count": 6,
   "metadata": {},
   "outputs": [],
   "source": [
    "# pokemon_list_cleaned[0]"
   ]
  },
  {
   "cell_type": "code",
   "execution_count": 7,
   "metadata": {
    "scrolled": false
   },
   "outputs": [],
   "source": [
    "#Getting the Pokemon name\n",
    "\n",
    "def getting_the_name(lista_de_pokemon):\n",
    "    '''Return a list of Pokemon names given a list of URL's\n",
    "    '''\n",
    "    names = []\n",
    "    \n",
    "    for pokemon in lista_de_pokemon:\n",
    "        names.append(pokemon.find(id=\"firstHeading\").text)\n",
    "    \n",
    "    return names"
   ]
  },
  {
   "cell_type": "code",
   "execution_count": 8,
   "metadata": {
    "scrolled": true
   },
   "outputs": [
    {
     "data": {
      "text/plain": [
       "['Entei',\n",
       " 'Lucario',\n",
       " 'Arceus',\n",
       " 'Gyarados',\n",
       " 'Eevee',\n",
       " 'Lapras',\n",
       " 'Chikorita',\n",
       " 'Pichu',\n",
       " 'Togepi',\n",
       " 'Lugia']"
      ]
     },
     "execution_count": 8,
     "metadata": {},
     "output_type": "execute_result"
    }
   ],
   "source": [
    "pokemon_names = getting_the_name(pokemon_list_cleaned)\n",
    "pokemon_names"
   ]
  },
  {
   "cell_type": "markdown",
   "metadata": {},
   "source": [
    "# To consider\n",
    "Taking into account that in the content's pages weren't words highlighted, I decided to scrap the first paragraph of each page for the exersice."
   ]
  },
  {
   "cell_type": "code",
   "execution_count": 9,
   "metadata": {},
   "outputs": [],
   "source": [
    "pokemon_text = []\n",
    "\n",
    "def getting_paragraph(pokemon_links):\n",
    "    '''Return a list of the first paragraph given a list of URL's\n",
    "    '''\n",
    "    full_text = []\n",
    "    for link in pokemon_links:\n",
    "        full_text.append(link.find_all('p'))\n",
    "    for paragraph in full_text:\n",
    "        if paragraph[0].text == \"\\n\":\n",
    "            pokemon_text.append(paragraph[1].text)\n",
    "        else:\n",
    "            pokemon_text.append(paragraph[0].text)"
   ]
  },
  {
   "cell_type": "code",
   "execution_count": 10,
   "metadata": {},
   "outputs": [],
   "source": [
    "getting_paragraph(pokemon_list_cleaned)"
   ]
  },
  {
   "cell_type": "code",
   "execution_count": 11,
   "metadata": {},
   "outputs": [
    {
     "data": {
      "text/plain": [
       "[\"Entei (エンテイ, Entei, ann·tea /ˈɛnteɪ/) is a Pokémon species in Nintendo and Game Freak's Pokémon franchise. Created by Muneo Saitō, Entei first appeared in the video games Pokémon Gold and Silver and subsequent sequels, later appearing in various merchandise, spinoff titles, animated adaptations, and printed adaptations of the franchise.\\n\",\n",
       " \"Lucario Japanese (ルカリオ, Rukario, /luːˈkɑːrioʊ, lʊ-/), Korean ( 루카리오,lukalio) Chinese (路卡利欧,Lù kǎ lì ōu) is a Pokémon species in Nintendo and Game Freak's Pokémon franchise. Created by Ken Sugimori, Lucario first appeared as a cameo in Pokémon Mystery Dungeon: Blue Rescue Team and Red Rescue Team, then, a central character in the film Pokémon: Lucario and the Mystery of Mew, and later appeared in the video games Pokémon Diamond and Pearl and subsequent sequels, also appearing in various merchandise, spin-off titles and animated and printed adaptations of the franchise. Lucario is voiced by Daisuke Namikawa, Daisuke Sakaguchi, Rikako Aikawa and Kiyotaka Furushima in Japanese, and Bill Rogers and Sean Schemmel in English.\\n\",\n",
       " \"Arceus (Japanese: アルセウス, Hepburn: Aruseusu) is a Pokémon species in Nintendo and Game Freak's Pokémon franchise. First featuring in the 2009 film Pokémon: Arceus and the Jewel of Life, Arceus is a mythical Pokémon which can first be obtained in the 2006 games Pokémon Diamond and Pearl. Within the lore of the Pokémon series, Arceus is the creator deity which created the games' universe. Following its release, Arceus was received relatively favorably, being voted the most favorite Pokémon in a poll of Japanese fans by The Pokémon Company.\\n\",\n",
       " \"Gyarados (ギャラドス, Gyaradosu, /ˈɡærədoʊsˌˈɡɪərə-ˌ-dɒs/) is a Pokémon species in Nintendo and Game Freak's Pokémon franchise. Created by Ken Sugimori, Gyarados first appeared in the video games Pokémon Red and Pokemon Blue and subsequent sequels, later appearing in various merchandise, spinoff titles and animated and printed adaptations of the franchise. Gyarados is voiced by Unshō Ishizuka in both Japanese and English media. Known as the Atrocious Pokémon, Gyarados is the evolved form of Magikarp, well known for its fierce temper and reputation for causing nothing but destruction so much so that once it has worked itself into a frenzy, it will not calm down until everything around it has been destroyed.\\n\",\n",
       " \"Eevee (イーブイ, Ībui, /ˈiːviː/ EE-vee) is a Pokémon species in Nintendo and Game Freak's Pokémon franchise. Created by Ken Sugimori, it first appeared in the video games Pokémon Red and Blue. It has later appeared in various merchandise, spinoff titles, and animated and printed adaptations of the franchise. It would become the game mascot and starter Pokémon for Pokémon: Let's Go, Eevee!.\\n\",\n",
       " \"Lapras (ラプラス, Rapurasu, /ˈlæprɪs/) is a Pokémon species in Nintendo and Game Freak's Pokémon franchise. Created by Ken Sugimori, Lapras first appeared in the video games Pokémon Red and Blue and subsequent sequels, later appearing in various merchandise, spinoff titles and animated and printed adaptations of the franchise.\\n\",\n",
       " \"Chikorita (/ˌtʃɪkəˈriːtə/), known as Chicorita (チコリータ Chikorīta) in Japan, is a Pokémon species in Nintendo and Game Freak's Pokémon franchise.\\n\",\n",
       " \"Pichu (ピチュー, Pichū) is a Pokémon species in Nintendo and Game Freak's Pokémon franchise. Created by Ken Sugimori, Pichu first appeared in the video games Pokémon Gold and Silver and subsequent sequels, later appearing in various merchandise, spinoff titles and animated and printed adaptations of the franchise. There have been multiple voice actors for Pichu. The two Pichu Brothers characters were voiced by Yumi Tōma and Satomi Kōrogi (who voiced Pichu in Super Smash Bros. Melee and Super Smash Bros. Ultimate), while a spiky-eared Pichu from the film Arceus and the Jewel of Life was voiced by Shōko Nakagawa and Kayzie Rogers.[1]\\n\",\n",
       " \"Togepi (トゲピー, Togepī, /ˈtoʊɡəpiː/) is a Fairy-type Pokémon in Nintendo and Game Freak's Pokémon franchise. Prior to Generation VI, it was a Normal-type Pokémon.  Created by Ken Sugimori, Togepi first appeared in the Pokémon anime, in which it became a major character for the first five seasons under the ownership of Misty. It then appeared in the video games Pokémon Gold and Silver and subsequent sequels, later appearing in various merchandise, spinoff titles, and animated and printed adaptations.\\n\",\n",
       " \"Lugia (ルギア, Rugia, /ˈluːɡiə/)  is a Pokémon species in Nintendo and Game Freak's Pokémon franchise. Created by Takeshi Shudo and drawn by Ken Sugimori, Lugia was the central character of the film Pokémon: The Movie 2000. It later served as the version mascot of the video game Pokémon Silver and its remake, Pokémon SoulSilver, appearing both on the box art and in-game. It also appeared in the Pokémon anime, various merchandise, spin-off titles and printed adaptations of the franchise, such as Pokémon Adventures. In animated appearances, Lugia is voiced in Japanese by Koichi Yamadera, and by Eric Rath in the English dub.\\n\"]"
      ]
     },
     "execution_count": 11,
     "metadata": {},
     "output_type": "execute_result"
    }
   ],
   "source": [
    "pokemon_text"
   ]
  },
  {
   "cell_type": "code",
   "execution_count": 12,
   "metadata": {},
   "outputs": [],
   "source": [
    "# Transform two list into a dictionary\n",
    "pokedex = dict(zip(pokemon_names, pokemon_text)) "
   ]
  },
  {
   "cell_type": "code",
   "execution_count": 51,
   "metadata": {},
   "outputs": [
    {
     "data": {
      "text/html": [
       "<div>\n",
       "<style scoped>\n",
       "    .dataframe tbody tr th:only-of-type {\n",
       "        vertical-align: middle;\n",
       "    }\n",
       "\n",
       "    .dataframe tbody tr th {\n",
       "        vertical-align: top;\n",
       "    }\n",
       "\n",
       "    .dataframe thead th {\n",
       "        text-align: right;\n",
       "    }\n",
       "</style>\n",
       "<table border=\"1\" class=\"dataframe\">\n",
       "  <thead>\n",
       "    <tr style=\"text-align: right;\">\n",
       "      <th></th>\n",
       "      <th>Pokemon</th>\n",
       "      <th>Story</th>\n",
       "    </tr>\n",
       "  </thead>\n",
       "  <tbody>\n",
       "    <tr>\n",
       "      <th>0</th>\n",
       "      <td>Entei</td>\n",
       "      <td>Entei (エンテイ, Entei, ann·tea /ˈɛnteɪ/) is a Pok...</td>\n",
       "    </tr>\n",
       "    <tr>\n",
       "      <th>1</th>\n",
       "      <td>Lucario</td>\n",
       "      <td>Lucario Japanese (ルカリオ, Rukario, /luːˈkɑːrioʊ,...</td>\n",
       "    </tr>\n",
       "    <tr>\n",
       "      <th>2</th>\n",
       "      <td>Arceus</td>\n",
       "      <td>Arceus (Japanese: アルセウス, Hepburn: Aruseusu) is...</td>\n",
       "    </tr>\n",
       "    <tr>\n",
       "      <th>3</th>\n",
       "      <td>Gyarados</td>\n",
       "      <td>Gyarados (ギャラドス, Gyaradosu, /ˈɡærədoʊsˌˈɡɪərə-...</td>\n",
       "    </tr>\n",
       "    <tr>\n",
       "      <th>4</th>\n",
       "      <td>Eevee</td>\n",
       "      <td>Eevee (イーブイ, Ībui, /ˈiːviː/ EE-vee) is a Pokém...</td>\n",
       "    </tr>\n",
       "    <tr>\n",
       "      <th>5</th>\n",
       "      <td>Lapras</td>\n",
       "      <td>Lapras (ラプラス, Rapurasu, /ˈlæprɪs/) is a Pokémo...</td>\n",
       "    </tr>\n",
       "    <tr>\n",
       "      <th>6</th>\n",
       "      <td>Chikorita</td>\n",
       "      <td>Chikorita (/ˌtʃɪkəˈriːtə/), known as Chicorita...</td>\n",
       "    </tr>\n",
       "    <tr>\n",
       "      <th>7</th>\n",
       "      <td>Pichu</td>\n",
       "      <td>Pichu (ピチュー, Pichū) is a Pokémon species in Ni...</td>\n",
       "    </tr>\n",
       "    <tr>\n",
       "      <th>8</th>\n",
       "      <td>Togepi</td>\n",
       "      <td>Togepi (トゲピー, Togepī, /ˈtoʊɡəpiː/) is a Fairy-...</td>\n",
       "    </tr>\n",
       "    <tr>\n",
       "      <th>9</th>\n",
       "      <td>Lugia</td>\n",
       "      <td>Lugia (ルギア, Rugia, /ˈluːɡiə/)  is a Pokémon sp...</td>\n",
       "    </tr>\n",
       "  </tbody>\n",
       "</table>\n",
       "</div>"
      ],
      "text/plain": [
       "     Pokemon                                              Story\n",
       "0      Entei  Entei (エンテイ, Entei, ann·tea /ˈɛnteɪ/) is a Pok...\n",
       "1    Lucario  Lucario Japanese (ルカリオ, Rukario, /luːˈkɑːrioʊ,...\n",
       "2     Arceus  Arceus (Japanese: アルセウス, Hepburn: Aruseusu) is...\n",
       "3   Gyarados  Gyarados (ギャラドス, Gyaradosu, /ˈɡærədoʊsˌˈɡɪərə-...\n",
       "4      Eevee  Eevee (イーブイ, Ībui, /ˈiːviː/ EE-vee) is a Pokém...\n",
       "5     Lapras  Lapras (ラプラス, Rapurasu, /ˈlæprɪs/) is a Pokémo...\n",
       "6  Chikorita  Chikorita (/ˌtʃɪkəˈriːtə/), known as Chicorita...\n",
       "7      Pichu  Pichu (ピチュー, Pichū) is a Pokémon species in Ni...\n",
       "8     Togepi  Togepi (トゲピー, Togepī, /ˈtoʊɡəpiː/) is a Fairy-...\n",
       "9      Lugia  Lugia (ルギア, Rugia, /ˈluːɡiə/)  is a Pokémon sp..."
      ]
     },
     "execution_count": 51,
     "metadata": {},
     "output_type": "execute_result"
    }
   ],
   "source": [
    "# Transform a dictionary into a DataFrame\n",
    "\n",
    "import pandas as pd\n",
    "\n",
    "df_pokedex = pd.DataFrame(list(pokedex.items()), columns = [\"Pokemon\", \"Story\"])\n",
    "df_pokedex"
   ]
  },
  {
   "cell_type": "markdown",
   "metadata": {},
   "source": [
    "# Punto 2:\n",
    "- `[10 pts]` Usando regex, reemplazar todas las tíldes del punto anterior por un asterisco (¡Ojo, los espacios se quedan!)\n"
   ]
  },
  {
   "cell_type": "markdown",
   "metadata": {},
   "source": [
    "# To consider\n",
    "\n",
    "The were only one accent in above texts (Pokémon), I decided to replace all the \"i\" of each text."
   ]
  },
  {
   "cell_type": "code",
   "execution_count": 49,
   "metadata": {},
   "outputs": [],
   "source": [
    "import re"
   ]
  },
  {
   "cell_type": "code",
   "execution_count": 52,
   "metadata": {},
   "outputs": [
    {
     "data": {
      "text/plain": [
       "[\"Ente* (エンテイ, Ente*, ann·tea /ˈɛnteɪ/) *s a Pokémon spec*es *n N*ntendo and Game Freak's Pokémon franch*se. Created by Muneo Sa*tō, Ente* f*rst appeared *n the v*deo games Pokémon Gold and S*lver and subsequent sequels, later appear*ng *n var*ous merchand*se, sp*noff t*tles, an*mated adaptat*ons, and pr*nted adaptat*ons of the franch*se.\\n\",\n",
       " \"Lucar*o Japanese (ルカリオ, Rukar*o, /luːˈkɑːr*oʊ, lʊ-/), Korean ( 루카리오,lukal*o) Ch*nese (路卡利欧,Lù kǎ lì ōu) *s a Pokémon spec*es *n N*ntendo and Game Freak's Pokémon franch*se. Created by Ken Sug*mor*, Lucar*o f*rst appeared as a cameo *n Pokémon Mystery Dungeon: Blue Rescue Team and Red Rescue Team, then, a central character *n the f*lm Pokémon: Lucar*o and the Mystery of Mew, and later appeared *n the v*deo games Pokémon D*amond and Pearl and subsequent sequels, also appear*ng *n var*ous merchand*se, sp*n-off t*tles and an*mated and pr*nted adaptat*ons of the franch*se. Lucar*o *s vo*ced by Da*suke Nam*kawa, Da*suke Sakaguch*, R*kako A*kawa and K*yotaka Furush*ma *n Japanese, and B*ll Rogers and Sean Schemmel *n Engl*sh.\\n\",\n",
       " \"Arceus (Japanese: アルセウス, Hepburn: Aruseusu) *s a Pokémon spec*es *n N*ntendo and Game Freak's Pokémon franch*se. F*rst featur*ng *n the 2009 f*lm Pokémon: Arceus and the Jewel of L*fe, Arceus *s a myth*cal Pokémon wh*ch can f*rst be obta*ned *n the 2006 games Pokémon D*amond and Pearl. W*th*n the lore of the Pokémon ser*es, Arceus *s the creator de*ty wh*ch created the games' un*verse. Follow*ng *ts release, Arceus was rece*ved relat*vely favorably, be*ng voted the most favor*te Pokémon *n a poll of Japanese fans by The Pokémon Company.\\n\",\n",
       " \"Gyarados (ギャラドス, Gyaradosu, /ˈɡærədoʊsˌˈɡɪərə-ˌ-dɒs/) *s a Pokémon spec*es *n N*ntendo and Game Freak's Pokémon franch*se. Created by Ken Sug*mor*, Gyarados f*rst appeared *n the v*deo games Pokémon Red and Pokemon Blue and subsequent sequels, later appear*ng *n var*ous merchand*se, sp*noff t*tles and an*mated and pr*nted adaptat*ons of the franch*se. Gyarados *s vo*ced by Unshō Ish*zuka *n both Japanese and Engl*sh med*a. Known as the Atroc*ous Pokémon, Gyarados *s the evolved form of Mag*karp, well known for *ts f*erce temper and reputat*on for caus*ng noth*ng but destruct*on so much so that once *t has worked *tself *nto a frenzy, *t w*ll not calm down unt*l everyth*ng around *t has been destroyed.\\n\",\n",
       " \"Eevee (イーブイ, Ību*, /ˈ*ːv*ː/ EE-vee) *s a Pokémon spec*es *n N*ntendo and Game Freak's Pokémon franch*se. Created by Ken Sug*mor*, *t f*rst appeared *n the v*deo games Pokémon Red and Blue. It has later appeared *n var*ous merchand*se, sp*noff t*tles, and an*mated and pr*nted adaptat*ons of the franch*se. It would become the game mascot and starter Pokémon for Pokémon: Let's Go, Eevee!.\\n\",\n",
       " \"Lapras (ラプラス, Rapurasu, /ˈlæprɪs/) *s a Pokémon spec*es *n N*ntendo and Game Freak's Pokémon franch*se. Created by Ken Sug*mor*, Lapras f*rst appeared *n the v*deo games Pokémon Red and Blue and subsequent sequels, later appear*ng *n var*ous merchand*se, sp*noff t*tles and an*mated and pr*nted adaptat*ons of the franch*se.\\n\",\n",
       " \"Ch*kor*ta (/ˌtʃɪkəˈr*ːtə/), known as Ch*cor*ta (チコリータ Ch*korīta) *n Japan, *s a Pokémon spec*es *n N*ntendo and Game Freak's Pokémon franch*se.\\n\",\n",
       " \"P*chu (ピチュー, P*chū) *s a Pokémon spec*es *n N*ntendo and Game Freak's Pokémon franch*se. Created by Ken Sug*mor*, P*chu f*rst appeared *n the v*deo games Pokémon Gold and S*lver and subsequent sequels, later appear*ng *n var*ous merchand*se, sp*noff t*tles and an*mated and pr*nted adaptat*ons of the franch*se. There have been mult*ple vo*ce actors for P*chu. The two P*chu Brothers characters were vo*ced by Yum* Tōma and Satom* Kōrog* (who vo*ced P*chu *n Super Smash Bros. Melee and Super Smash Bros. Ult*mate), wh*le a sp*ky-eared P*chu from the f*lm Arceus and the Jewel of L*fe was vo*ced by Shōko Nakagawa and Kayz*e Rogers.[1]\\n\",\n",
       " \"Togep* (トゲピー, Togepī, /ˈtoʊɡəp*ː/) *s a Fa*ry-type Pokémon *n N*ntendo and Game Freak's Pokémon franch*se. Pr*or to Generat*on VI, *t was a Normal-type Pokémon.  Created by Ken Sug*mor*, Togep* f*rst appeared *n the Pokémon an*me, *n wh*ch *t became a major character for the f*rst f*ve seasons under the ownersh*p of M*sty. It then appeared *n the v*deo games Pokémon Gold and S*lver and subsequent sequels, later appear*ng *n var*ous merchand*se, sp*noff t*tles, and an*mated and pr*nted adaptat*ons.\\n\",\n",
       " \"Lug*a (ルギア, Rug*a, /ˈluːɡ*ə/)  *s a Pokémon spec*es *n N*ntendo and Game Freak's Pokémon franch*se. Created by Takesh* Shudo and drawn by Ken Sug*mor*, Lug*a was the central character of the f*lm Pokémon: The Mov*e 2000. It later served as the vers*on mascot of the v*deo game Pokémon S*lver and *ts remake, Pokémon SoulS*lver, appear*ng both on the box art and *n-game. It also appeared *n the Pokémon an*me, var*ous merchand*se, sp*n-off t*tles and pr*nted adaptat*ons of the franch*se, such as Pokémon Adventures. In an*mated appearances, Lug*a *s vo*ced *n Japanese by Ko*ch* Yamadera, and by Er*c Rath *n the Engl*sh dub.\\n\"]"
      ]
     },
     "execution_count": 52,
     "metadata": {},
     "output_type": "execute_result"
    }
   ],
   "source": [
    "formated = []\n",
    "\n",
    "for text in df_pokedex[\"Story\"]:\n",
    "    formated.append(re.sub(\"i\", \"*\", text))\n",
    "    \n",
    "formated"
   ]
  },
  {
   "cell_type": "markdown",
   "metadata": {},
   "source": [
    "# Trying to scrap images\n",
    "## *Spoiler alert*: I failed :c"
   ]
  },
  {
   "cell_type": "code",
   "execution_count": 14,
   "metadata": {},
   "outputs": [],
   "source": [
    "# Entei = pokemon_list_cleaned[0].findAll('img', class_=\"image\")"
   ]
  },
  {
   "cell_type": "code",
   "execution_count": 15,
   "metadata": {},
   "outputs": [],
   "source": [
    "Entei = pokemon_list_cleaned[0].findAll('img', alt=\"Pokémon Entei art.png\")[0]"
   ]
  },
  {
   "cell_type": "code",
   "execution_count": 16,
   "metadata": {},
   "outputs": [
    {
     "data": {
      "text/plain": [
       "<img alt=\"Pokémon Entei art.png\" data-file-height=\"212\" data-file-width=\"195\" decoding=\"async\" height=\"212\" src=\"//upload.wikimedia.org/wikipedia/en/1/19/Pok%C3%A9mon_Entei_art.png\" width=\"195\"/>"
      ]
     },
     "execution_count": 16,
     "metadata": {},
     "output_type": "execute_result"
    }
   ],
   "source": [
    "Entei"
   ]
  },
  {
   "cell_type": "code",
   "execution_count": 17,
   "metadata": {
    "scrolled": true
   },
   "outputs": [
    {
     "data": {
      "text/plain": [
       "'//upload.wikimedia.org/wikipedia/en/1/19/Pok%C3%A9mon_Entei_art.png'"
      ]
     },
     "execution_count": 17,
     "metadata": {},
     "output_type": "execute_result"
    }
   ],
   "source": [
    "Entei.attrs['src']"
   ]
  },
  {
   "cell_type": "code",
   "execution_count": 18,
   "metadata": {},
   "outputs": [],
   "source": [
    "full_url2 = \"https://en.wikipedia.org/wiki/Entei#/media/File:Pok%C3%A9mon_Entei_art.png\""
   ]
  },
  {
   "cell_type": "code",
   "execution_count": 20,
   "metadata": {},
   "outputs": [],
   "source": [
    "url_base = \"https://en.wikipedia.org/wiki/Entei\"\n",
    "url_ext = Entei.attrs['src']\n",
    "full_url = url_base + url_ext\n",
    "r = requests.get(full_url, stream=True)"
   ]
  },
  {
   "cell_type": "code",
   "execution_count": 21,
   "metadata": {},
   "outputs": [
    {
     "data": {
      "text/plain": [
       "'https://en.wikipedia.org/wiki/Entei//upload.wikimedia.org/wikipedia/en/1/19/Pok%C3%A9mon_Entei_art.png'"
      ]
     },
     "execution_count": 21,
     "metadata": {},
     "output_type": "execute_result"
    }
   ],
   "source": [
    "full_url"
   ]
  },
  {
   "cell_type": "code",
   "execution_count": 22,
   "metadata": {},
   "outputs": [],
   "source": [
    "if r.status_code == 200:                     #200 status code = OK\n",
    "    with open(\"Pok%C3%A9mon_Entei_art.png\", 'wb') as f: \n",
    "        r.raw.decode_content = True\n",
    "        shutil.copyfileobj(r.raw, f)"
   ]
  },
  {
   "cell_type": "code",
   "execution_count": 23,
   "metadata": {},
   "outputs": [
    {
     "ename": "FileNotFoundError",
     "evalue": "[Errno 2] No such file or directory: 'Pok%C3%A9mon_Entei_art.png'",
     "output_type": "error",
     "traceback": [
      "\u001b[0;31m---------------------------------------------------------------------------\u001b[0m",
      "\u001b[0;31mFileNotFoundError\u001b[0m                         Traceback (most recent call last)",
      "\u001b[0;32m<ipython-input-23-3123009f0c44>\u001b[0m in \u001b[0;36m<module>\u001b[0;34m\u001b[0m\n\u001b[0;32m----> 1\u001b[0;31m \u001b[0mimg\u001b[0m \u001b[0;34m=\u001b[0m \u001b[0mmpim\u001b[0m\u001b[0;34m.\u001b[0m\u001b[0mimread\u001b[0m\u001b[0;34m(\u001b[0m\u001b[0;34m'Pok%C3%A9mon_Entei_art.png'\u001b[0m\u001b[0;34m)\u001b[0m\u001b[0;34m\u001b[0m\u001b[0;34m\u001b[0m\u001b[0m\n\u001b[0m\u001b[1;32m      2\u001b[0m \u001b[0mimgplot\u001b[0m \u001b[0;34m=\u001b[0m \u001b[0mplt\u001b[0m\u001b[0;34m.\u001b[0m\u001b[0mimshow\u001b[0m\u001b[0;34m(\u001b[0m\u001b[0mimg\u001b[0m\u001b[0;34m)\u001b[0m\u001b[0;34m\u001b[0m\u001b[0;34m\u001b[0m\u001b[0m\n\u001b[1;32m      3\u001b[0m \u001b[0mplt\u001b[0m\u001b[0;34m.\u001b[0m\u001b[0mshow\u001b[0m\u001b[0;34m(\u001b[0m\u001b[0;34m)\u001b[0m\u001b[0;34m\u001b[0m\u001b[0;34m\u001b[0m\u001b[0m\n",
      "\u001b[0;32m~/anaconda3/lib/python3.8/site-packages/matplotlib/image.py\u001b[0m in \u001b[0;36mimread\u001b[0;34m(fname, format)\u001b[0m\n\u001b[1;32m   1494\u001b[0m                     \u001b[0mresponse\u001b[0m \u001b[0;34m=\u001b[0m \u001b[0mio\u001b[0m\u001b[0;34m.\u001b[0m\u001b[0mBytesIO\u001b[0m\u001b[0;34m(\u001b[0m\u001b[0mresponse\u001b[0m\u001b[0;34m.\u001b[0m\u001b[0mread\u001b[0m\u001b[0;34m(\u001b[0m\u001b[0;34m)\u001b[0m\u001b[0;34m)\u001b[0m\u001b[0;34m\u001b[0m\u001b[0;34m\u001b[0m\u001b[0m\n\u001b[1;32m   1495\u001b[0m                 \u001b[0;32mreturn\u001b[0m \u001b[0mimread\u001b[0m\u001b[0;34m(\u001b[0m\u001b[0mresponse\u001b[0m\u001b[0;34m,\u001b[0m \u001b[0mformat\u001b[0m\u001b[0;34m=\u001b[0m\u001b[0mext\u001b[0m\u001b[0;34m)\u001b[0m\u001b[0;34m\u001b[0m\u001b[0;34m\u001b[0m\u001b[0m\n\u001b[0;32m-> 1496\u001b[0;31m     \u001b[0;32mwith\u001b[0m \u001b[0mimg_open\u001b[0m\u001b[0;34m(\u001b[0m\u001b[0mfname\u001b[0m\u001b[0;34m)\u001b[0m \u001b[0;32mas\u001b[0m \u001b[0mimage\u001b[0m\u001b[0;34m:\u001b[0m\u001b[0;34m\u001b[0m\u001b[0;34m\u001b[0m\u001b[0m\n\u001b[0m\u001b[1;32m   1497\u001b[0m         return (_pil_png_to_float_array(image)\n\u001b[1;32m   1498\u001b[0m                 \u001b[0;32mif\u001b[0m \u001b[0misinstance\u001b[0m\u001b[0;34m(\u001b[0m\u001b[0mimage\u001b[0m\u001b[0;34m,\u001b[0m \u001b[0mPIL\u001b[0m\u001b[0;34m.\u001b[0m\u001b[0mPngImagePlugin\u001b[0m\u001b[0;34m.\u001b[0m\u001b[0mPngImageFile\u001b[0m\u001b[0;34m)\u001b[0m \u001b[0;32melse\u001b[0m\u001b[0;34m\u001b[0m\u001b[0;34m\u001b[0m\u001b[0m\n",
      "\u001b[0;32m~/anaconda3/lib/python3.8/site-packages/PIL/ImageFile.py\u001b[0m in \u001b[0;36m__init__\u001b[0;34m(self, fp, filename)\u001b[0m\n\u001b[1;32m    107\u001b[0m         \u001b[0;32mif\u001b[0m \u001b[0misPath\u001b[0m\u001b[0;34m(\u001b[0m\u001b[0mfp\u001b[0m\u001b[0;34m)\u001b[0m\u001b[0;34m:\u001b[0m\u001b[0;34m\u001b[0m\u001b[0;34m\u001b[0m\u001b[0m\n\u001b[1;32m    108\u001b[0m             \u001b[0;31m# filename\u001b[0m\u001b[0;34m\u001b[0m\u001b[0;34m\u001b[0m\u001b[0;34m\u001b[0m\u001b[0m\n\u001b[0;32m--> 109\u001b[0;31m             \u001b[0mself\u001b[0m\u001b[0;34m.\u001b[0m\u001b[0mfp\u001b[0m \u001b[0;34m=\u001b[0m \u001b[0mopen\u001b[0m\u001b[0;34m(\u001b[0m\u001b[0mfp\u001b[0m\u001b[0;34m,\u001b[0m \u001b[0;34m\"rb\"\u001b[0m\u001b[0;34m)\u001b[0m\u001b[0;34m\u001b[0m\u001b[0;34m\u001b[0m\u001b[0m\n\u001b[0m\u001b[1;32m    110\u001b[0m             \u001b[0mself\u001b[0m\u001b[0;34m.\u001b[0m\u001b[0mfilename\u001b[0m \u001b[0;34m=\u001b[0m \u001b[0mfp\u001b[0m\u001b[0;34m\u001b[0m\u001b[0;34m\u001b[0m\u001b[0m\n\u001b[1;32m    111\u001b[0m             \u001b[0mself\u001b[0m\u001b[0;34m.\u001b[0m\u001b[0m_exclusive_fp\u001b[0m \u001b[0;34m=\u001b[0m \u001b[0;32mTrue\u001b[0m\u001b[0;34m\u001b[0m\u001b[0;34m\u001b[0m\u001b[0m\n",
      "\u001b[0;31mFileNotFoundError\u001b[0m: [Errno 2] No such file or directory: 'Pok%C3%A9mon_Entei_art.png'"
     ]
    }
   ],
   "source": [
    "img = mpim.imread('Pok%C3%A9mon_Entei_art.png')\n",
    "imgplot = plt.imshow(img)\n",
    "plt.show()"
   ]
  },
  {
   "cell_type": "code",
   "execution_count": null,
   "metadata": {},
   "outputs": [],
   "source": []
  }
 ],
 "metadata": {
  "kernelspec": {
   "display_name": "Python 3",
   "language": "python",
   "name": "python3"
  },
  "language_info": {
   "codemirror_mode": {
    "name": "ipython",
    "version": 3
   },
   "file_extension": ".py",
   "mimetype": "text/x-python",
   "name": "python",
   "nbconvert_exporter": "python",
   "pygments_lexer": "ipython3",
   "version": "3.8.8"
  }
 },
 "nbformat": 4,
 "nbformat_minor": 2
}
