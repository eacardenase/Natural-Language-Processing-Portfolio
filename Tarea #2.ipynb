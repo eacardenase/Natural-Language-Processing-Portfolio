{
 "cells": [
  {
   "cell_type": "markdown",
   "id": "dependent-brother",
   "metadata": {},
   "source": [
    "# Tarea NLP\n",
    "\n",
    "Punto 1:\n",
    "[18 pts] Descomprimir el archivo .zip de python_books\n",
    "\n",
    "[22 pts] Leer cada uno de sus archivos\n",
    "\n",
    "[10 pts] Responder: ¿Cuál archivo tiene el mayor número de palabras?"
   ]
  },
  {
   "cell_type": "markdown",
   "id": "informational-cameroon",
   "metadata": {},
   "source": [
    "## Punto 1"
   ]
  },
  {
   "cell_type": "code",
   "execution_count": 1,
   "id": "through-warning",
   "metadata": {},
   "outputs": [],
   "source": [
    "import os\n",
    "from zipfile import ZipFile"
   ]
  },
  {
   "cell_type": "code",
   "execution_count": 2,
   "id": "structured-bookmark",
   "metadata": {},
   "outputs": [],
   "source": [
    "# Descomprimir el archivo ZIP\n",
    "\n",
    "direccion = '../Natural Language Processing/python_books.zip'\n",
    "\n",
    "with ZipFile(direccion) as archivo:\n",
    "    archivo.extractall(\"../Natural Language Processing/\")"
   ]
  },
  {
   "cell_type": "code",
   "execution_count": 3,
   "id": "female-mentor",
   "metadata": {},
   "outputs": [
    {
     "name": "stdout",
     "output_type": "stream",
     "text": [
      "('../Natural Language Processing/python_books', [], ['Python - Finance.pdf', 'Python - AWS.pdf', 'Python  Data Science Cookbook.pdf'])\n"
     ]
    }
   ],
   "source": [
    "for archivo in os.walk(\"../Natural Language Processing/python_books\"):\n",
    "    print(archivo)"
   ]
  },
  {
   "cell_type": "code",
   "execution_count": 4,
   "id": "suspected-bryan",
   "metadata": {},
   "outputs": [
    {
     "name": "stdout",
     "output_type": "stream",
     "text": [
      "Python - Finance.pdf\n",
      "Python - AWS.pdf\n",
      "Python  Data Science Cookbook.pdf\n"
     ]
    }
   ],
   "source": [
    "for raiz, dirs, archivos in os.walk(\"../Natural Language Processing/python_books\"):\n",
    "    for a in archivos: \n",
    "        print(a)"
   ]
  },
  {
   "cell_type": "markdown",
   "id": "acute-limitation",
   "metadata": {},
   "source": [
    "## Punto 2"
   ]
  },
  {
   "cell_type": "code",
   "execution_count": 5,
   "id": "statutory-message",
   "metadata": {},
   "outputs": [
    {
     "name": "stdout",
     "output_type": "stream",
     "text": [
      "Requirement already satisfied: PyMuPDF in /home/eacardenase/anaconda3/lib/python3.8/site-packages (1.18.9)\r\n"
     ]
    }
   ],
   "source": [
    "! pip install PyMuPDF\n",
    "import fitz"
   ]
  },
  {
   "cell_type": "code",
   "execution_count": 6,
   "id": "bridal-gather",
   "metadata": {},
   "outputs": [
    {
     "name": "stdout",
     "output_type": "stream",
     "text": [
      "Python - Finance.pdf\n",
      "Python - AWS.pdf\n",
      "Python  Data Science Cookbook.pdf\n"
     ]
    }
   ],
   "source": [
    "for raiz, dirs, archivos in os.walk(\"../Natural Language Processing/python_books\"):\n",
    "    for a in archivos: \n",
    "        print(a)"
   ]
  },
  {
   "cell_type": "code",
   "execution_count": 7,
   "id": "cooperative-humor",
   "metadata": {},
   "outputs": [
    {
     "name": "stdout",
     "output_type": "stream",
     "text": [
      "Número de páginas:  1\n",
      "Preface\n",
      "It is our firm belief that an ambitious student major in finance should learn at least \n",
      "one computer language. The basic reason is that we have entered the Big Data era. \n",
      "In finance, we have a huge amount of data, and most of it is publically available free \n",
      "of charge. To use such rich sources of data efficiently, we need a tool. Among many \n",
      "potential candidates, Python is one of the best choices.\n",
      "Why Python?\n",
      "There are various reasons that Python should be used. Firstly, Python is free in terms \n",
      "of license. Python is available for all major operating systems, such as Windows, \n",
      "Linux/Unix, OS/2, Mac, and Amiga, among others. Being free has many benefits. \n",
      "When students graduate, they could apply what they have learned wherever they \n",
      "go. This is true for the financial community as well. In contrast, this is not true for \n",
      "SAS and MATLAB. Secondly, Python is powerful, flexible, and easy to learn. It is \n",
      "capable of solving almost all our financial and economic estimations. Thirdly, we \n",
      "could apply Python to Big Data. Dasgupta (2013) argues that R and Python are two \n",
      "of the most popular open source programming languages for data analysis. Fourthly, \n",
      "there are many useful modules in Python. Each model is developed for a special \n",
      "purpose. In this book, we focus on NumPy, SciPy, Matplotlib, Statsmodels, and \n",
      "Pandas modules.\n",
      "\n",
      "1345\n"
     ]
    }
   ],
   "source": [
    "Python_Finance = fitz.open('../Natural Language Processing/python_books/Python - Finance.pdf')\n",
    "print(\"Número de páginas: \", Python_Finance.pageCount)\n",
    "pagina_texto_1 = Python_Finance.loadPage(0)\n",
    "Python_Finance_Texto = pagina_texto_1.getText(\"text\")\n",
    "print(Python_Finance_Texto)\n",
    "print(len(Python_Finance_Texto))"
   ]
  },
  {
   "cell_type": "code",
   "execution_count": 8,
   "id": "blessed-cuisine",
   "metadata": {},
   "outputs": [
    {
     "name": "stdout",
     "output_type": "stream",
     "text": [
      "Número de páginas:  1\n",
      "Preface\n",
      "Today,\twe\tlive\tin\ta\tworld\tof\tconnected\tthings\twhere\ttons\tof\tdata\tis\tgenerated\tand\tit\tis\n",
      "humanly\timpossible\tto\tanalyze\tall\tthe\tincoming\tdata\tand\tmake\tdecisions.\tHuman\n",
      "decisions\tare\tincreasingly\treplaced\tby\tdecisions\tmade\tby\tcomputers.\tThanks\tto\tthe\tfield\n",
      "of\tdata\tscience.\tData\tscience\thas\tpenetrated\tdeeply\tin\tour\tconnected\tworld\tand\tthere\tis\ta\n",
      "growing\tdemand\tin\tthe\tmarket\tfor\tpeople\twho\tnot\tonly\tunderstand\tdata\tscience\n",
      "algorithms\tthoroughly,\tbut\tare\talso\tcapable\tof\tprogramming\tthese\talgorithms.\tData\n",
      "science\tis\ta\tfield\tthat\tis\tat\tthe\tintersection\tof\tmany\tfields,\tincluding\tdata\tmining,\tmachine\n",
      "learning,\tand\tstatistics,\tto\tname\ta\tfew.\tThis\tputs\tan\timmense\tburden\ton\tall\tlevels\tof\tdata\n",
      "scientists;\tfrom\tthe\tone\twho\tis\taspiring\tto\tbecome\ta\tdata\tscientist\tand\tthose\twho\tare\n",
      "currently\tpractitioners\tin\tthis\tfield.\tTreating\tthese\talgorithms\tas\ta\tblack\tbox\tand\tusing\n",
      "them\tin\tdecision-making\tsystems\twill\tlead\tto\tcounterproductive\tresults.\tWith\ttons\tof\n",
      "algorithms\tand\tinnumerable\tproblems\tout\tthere,\tit\trequires\ta\tgood\tgrasp\tof\tthe\tunderlying\n",
      "algorithms\tin\torder\tto\tchoose\tthe\tbest\tone\tfor\tany\tgiven\tproblem.\n",
      "Python\tas\ta\tprogramming\tlanguage\thas\tevolved\tover\tthe\tyears\tand\ttoday,\tit\tis\tthe\tnumber\n",
      "one\tchoice\tfor\ta\tdata\tscientist.\tIts\tability\tto\tact\tas\ta\tscripting\tlanguage\tfor\tquick\tprototype\n",
      "building\tand\tits\tsophisticated\tlanguage\tconstructs\tfor\tfull-fledged\tsoftware\tdevelopment\n",
      "combined\twith\tits\tfantastic\tlibrary\tsupport\tfor\tnumeric\tcomputations\thas\tled\tto\tits\tcurrent\n",
      "popularity\tamong\tdata\tscientists\tand\tthe\tgeneral\tscientific\tprogramming\tcommunity.\tNot\n",
      "just\tthat,\tPython\tis\talso\tpopular\tamong\tweb\tdevelopers;\tthanks\tto\tframeworks\tsuch\tas\n",
      "Django\tand\tFlask.\n",
      "This\tbook\thas\tbeen\tcarefully\twritten\tto\tcater\tto\tthe\tneeds\tof\ta\tdiverse\trange\tof\tdata\n",
      "scientists—starting\tfrom\tnovice\tdata\tscientists\tto\texperienced\tones—through\tcarefully\n",
      "crafted\trecipes,\twhich\ttouch\tupon\tthe\tdifferent\taspects\tof\tdata\tscience,\tincluding\tdata\n",
      "exploration,\tdata\tanalysis\tand\tmining,\tmachine\tlearning,\tand\tlarge\tscale\tmachine\tlearning.\n",
      "Each\tchapter\thas\tbeen\tcarefully\tcrafted\twith\trecipes\texploring\tthese\taspects.\tSufficient\n",
      "math\thas\tbeen\tprovided\tfor\tthe\treaders\tto\tunderstand\tthe\tfunctioning\tof\tthe\talgorithms\tin\n",
      "depth.\tWherever\tnecessary,\tenough\treferences\tare\tprovided\tfor\tthe\tcurious\treaders.\tThe\n",
      "recipes\tare\twritten\tin\tsuch\ta\tway\tthat\tthey\tare\teasy\tto\tfollow\tand\tunderstand.\n",
      "This\tbook\tbrings\tthe\tart\tof\tdata\tscience\twith\tpower\tPython\tprogramming\tto\tthe\treaders\n",
      "and\thelps\tthem\tmaster\tthe\tconcepts\tof\tdata\tscience.\tKnowledge\tof\tPython\tis\tnot\n",
      "mandatory\tto\tfollow\tthis\tbook.\tNon-Python\tprogrammers\tcan\trefer\tto\tthe\tfirst\tchapter,\n",
      "which\tintroduces\tthe\tPython\tdata\tstructures\tand\tfunction\tprogramming\tconcepts.\n",
      "The\tearly\tchapters\tcover\tthe\tbasics\tof\tdata\tscience\tand\tthe\tlater\tchapters\tare\tdedicated\tto\n",
      "advanced\tdata\tscience\talgorithms.\tState-of-the-art\talgorithms\tthat\tare\tcurrently\tused\tin\n",
      "practice\tby\tleading\tdata\tscientists\tacross\tindustries\tincluding\tthe\tensemble\tmethods,\n",
      "random\tforest,\tregression\twith\tregularization,\tand\tothers\tare\tcovered\tin\tdetail.\tSome\tof\n",
      "the\talgorithms\tthat\tare\tpopular\tin\tacademia\tand\tstill\tnot\twidely\tintroduced\tto\tthe\n",
      "mainstream\tsuch\tas\trotational\tforest\tare\tcovered\tin\tdetail.\n",
      "With\ta\tlot\tof\tdo-it-yourself\tbooks\ton\tdata\tscience\ttoday\tin\tthe\tmarket,\twe\tfeel\tthat\tthere\tis\n",
      "a\tgap\tin\tterms\tof\tcovering\tthe\tright\tmix\tof\tmath\tphilosophy\tbehind\tthe\tdata\tscience\n",
      "\n",
      "3371\n"
     ]
    }
   ],
   "source": [
    "Python_Data_Science_Cookbook = fitz.open('../Natural Language Processing/python_books/Python  Data Science Cookbook.pdf')\n",
    "print(\"Número de páginas: \", Python_Data_Science_Cookbook.pageCount)\n",
    "pagina_texto_2 = Python_Data_Science_Cookbook.loadPage(0)\n",
    "Python_Data_Science_Cookbook_Text = pagina_texto_2.getText(\"text\")\n",
    "print(Python_Data_Science_Cookbook_Text)\n",
    "print(len(Python_Data_Science_Cookbook_Text))"
   ]
  },
  {
   "cell_type": "code",
   "execution_count": 9,
   "id": "altered-driver",
   "metadata": {},
   "outputs": [
    {
     "name": "stdout",
     "output_type": "stream",
     "text": [
      "Número de páginas:  1\n",
      "[ vii ]\n",
      "Preface\n",
      "With an increasing interest in leveraging cloud infrastructure around the world, the \n",
      "AWS cloud from Amazon offers a cutting-edge platform for architecting, building, \n",
      "and deploying web-scale cloud applications through a user-friendly interface. The \n",
      "variety of features available within AWS can reduce overall infrastructure costs and \n",
      "accelerate the development process for both large enterprises and start-ups alike.\n",
      "Learning AWS covers basic, intermediate, and advanced features and concepts  \n",
      "as they relate to designing, developing, and deploying scalable, highly available,  \n",
      "and secure applications on the AWS platform. By sequentially working through  \n",
      "the steps in each chapter, you will quickly master the features of AWS to create an \n",
      "enterprise-grade cloud application. We use a three-tiered services-oriented sample \n",
      "application for extensive hands-on exercises.\n",
      "This book will not only teach you about the AWS components, but you will gain \n",
      "valuable information about key concepts such as multi-tenancy, auto scaling, \n",
      "planning, implementing application development environments, addressing \n",
      "application security concerns, and so on. You will also learn how these concepts \n",
      "relate to cost effective architectural decisions while designing scalable, highly \n",
      "available, and secure AWS cloud applications.\n",
      "A step-by-step approach to cloud application design and implementation is explained \n",
      "in a conversational and easy-to-follow style. Each topic is explained sequentially in \n",
      "the process of creating an AWS cloud application. Detailed explanations of the basic \n",
      "and advanced features of AWS that address the needs of readers with a wide range \n",
      "of real-world experiences are also included. Expert programmers and architects will \n",
      "appreciate the focus on the practice rather than the theory.\n",
      "\n",
      "1820\n"
     ]
    }
   ],
   "source": [
    "Python_AWS = fitz.open('../Natural Language Processing/python_books/Python - AWS.pdf')\n",
    "print(\"Número de páginas: \", Python_AWS.pageCount)\n",
    "pagina_texto_3 = Python_AWS.loadPage(0)\n",
    "Python_AWS_Text = pagina_texto_3.getText(\"text\")\n",
    "print(Python_AWS_Text)\n",
    "print(len(Python_AWS_Text))"
   ]
  },
  {
   "cell_type": "markdown",
   "id": "original-funds",
   "metadata": {},
   "source": [
    "## Punto 3"
   ]
  },
  {
   "cell_type": "markdown",
   "id": "korean-tuesday",
   "metadata": {},
   "source": [
    "El documento con el mayor numero de palabras es \"Python Data Science Cookbook\""
   ]
  },
  {
   "cell_type": "code",
   "execution_count": 10,
   "id": "broad-police",
   "metadata": {},
   "outputs": [],
   "source": [
    "libros = [Python_Finance_Texto, Python_Data_Science_Cookbook_Text, Python_AWS_Text]"
   ]
  },
  {
   "cell_type": "code",
   "execution_count": 38,
   "id": "latin-essay",
   "metadata": {
    "scrolled": true
   },
   "outputs": [],
   "source": [
    "numero_de_palabras = 0\n",
    "\n",
    "for pagina in libros:\n",
    "    if len(pagina) > numero_de_palabras:\n",
    "        numero_de_palabras += len(pagina)\n",
    "\n",
    "libro_con_mas_palabras = libros.index(pagina) # Indice del libro con el mayor numero de palabras"
   ]
  },
  {
   "cell_type": "code",
   "execution_count": 48,
   "id": "floral-sequence",
   "metadata": {},
   "outputs": [
    {
     "name": "stdout",
     "output_type": "stream",
     "text": [
      "El libro con el mayor numero de palabras es:         \n",
      "Python  Data Science Cookbook.pdf, con 1820 paginas\n"
     ]
    }
   ],
   "source": [
    "for raiz, dirs, archivos in os.walk(\"../Natural Language Processing/python_books\"):\n",
    "        print(f\"El libro con el mayor numero de palabras es: \\\n",
    "        \\n{archivos[libro_con_mas_palabras]}, con {len(libros[libro_con_mas_palabras])} paginas\") \n",
    "        # Ponemos el indice del libro con mayor numero de palabras \n",
    "        # y obtenemos el nombre del mismo"
   ]
  },
  {
   "cell_type": "code",
   "execution_count": null,
   "id": "viral-database",
   "metadata": {},
   "outputs": [],
   "source": []
  }
 ],
 "metadata": {
  "kernelspec": {
   "display_name": "Python 3",
   "language": "python",
   "name": "python3"
  },
  "language_info": {
   "codemirror_mode": {
    "name": "ipython",
    "version": 3
   },
   "file_extension": ".py",
   "mimetype": "text/x-python",
   "name": "python",
   "nbconvert_exporter": "python",
   "pygments_lexer": "ipython3",
   "version": "3.8.8"
  }
 },
 "nbformat": 4,
 "nbformat_minor": 5
}
