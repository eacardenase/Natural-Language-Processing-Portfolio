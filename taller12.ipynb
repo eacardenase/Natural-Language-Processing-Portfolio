{
  "nbformat": 4,
  "nbformat_minor": 0,
  "metadata": {
    "kernelspec": {
      "display_name": "Python 3",
      "language": "python",
      "name": "python3"
    },
    "language_info": {
      "codemirror_mode": {
        "name": "ipython",
        "version": 3
      },
      "file_extension": ".py",
      "mimetype": "text/x-python",
      "name": "python",
      "nbconvert_exporter": "python",
      "pygments_lexer": "ipython3",
      "version": "3.7.4"
    },
    "colab": {
      "name": "taller12.ipynb",
      "provenance": [],
      "collapsed_sections": []
    }
  },
  "cells": [
    {
      "cell_type": "markdown",
      "metadata": {
        "id": "86mp8eF7t_56"
      },
      "source": [
        "<img src='https://encrypted-tbn0.gstatic.com/images?q=tbn%3AANd9GcQ-VfNtOyJbsaxu43Kztf_cv1mgBG6ZIQZEVw&usqp=CAU'>\n",
        "\n",
        "# Procesamiento de Lenguaje Natural\n",
        "\n",
        "## Taller #12: Análisis de sentimiento\n",
        "`Fecha de entrega: Mayo 27, 2021 (Antes del inicio de la próxima clase).`\n",
        "\n",
        "`Modo de entrega: Subir link de GitHub al aula virtual.`"
      ]
    },
    {
      "cell_type": "markdown",
      "metadata": {
        "id": "Nmb_gH79t_6E"
      },
      "source": [
        "###  `[25 pts]` Punto 1: Hacer análisis de sentimiento de los datos del anterior taller\n",
        "- Columna con el puntaje numérico del sentimiento\n",
        "- Pueden usar cualquiera de las librerias vistas en clase"
      ]
    },
    {
      "cell_type": "code",
      "metadata": {
        "id": "sFEMHT0YuKD6"
      },
      "source": [
        "!pip install flair"
      ],
      "execution_count": null,
      "outputs": []
    },
    {
      "cell_type": "code",
      "metadata": {
        "id": "aKNsNExgvA1l"
      },
      "source": [
        "from flair.models import TextClassifier\n",
        "from flair.data import Sentence\n",
        "import pandas as pd\n",
        "\n",
        "classifier = TextClassifier.load('sentiment')\n",
        "\n",
        "ejemplo1 = \"At least it isn't a horrible book.\"\n",
        "\n",
        "sentence = Sentence(ejemplo1)"
      ],
      "execution_count": null,
      "outputs": []
    },
    {
      "cell_type": "code",
      "metadata": {
        "colab": {
          "base_uri": "https://localhost:8080/"
        },
        "id": "W0mipuY7wJmg",
        "outputId": "5ec347f3-a1b8-4fe3-b908-f959c51a6a52"
      },
      "source": [
        "classifier.predict(sentence, multi_class_prob=False)\n",
        "l = sentence.labels\n",
        "\n",
        "l[0].value, l[0].score"
      ],
      "execution_count": 4,
      "outputs": [
        {
          "output_type": "execute_result",
          "data": {
            "text/plain": [
              "('POSITIVE', 0.8074582815170288)"
            ]
          },
          "metadata": {
            "tags": []
          },
          "execution_count": 4
        }
      ]
    },
    {
      "cell_type": "code",
      "metadata": {
        "colab": {
          "base_uri": "https://localhost:8080/",
          "height": 402
        },
        "id": "GWCEpjEnwJjF",
        "outputId": "20523e33-1eda-4887-e8bc-0bd911419c3c"
      },
      "source": [
        "data = pd.read_csv(\"reina_del_flow.csv\")\n",
        "data"
      ],
      "execution_count": 5,
      "outputs": [
        {
          "output_type": "execute_result",
          "data": {
            "text/html": [
              "<div>\n",
              "<style scoped>\n",
              "    .dataframe tbody tr th:only-of-type {\n",
              "        vertical-align: middle;\n",
              "    }\n",
              "\n",
              "    .dataframe tbody tr th {\n",
              "        vertical-align: top;\n",
              "    }\n",
              "\n",
              "    .dataframe thead th {\n",
              "        text-align: right;\n",
              "    }\n",
              "</style>\n",
              "<table border=\"1\" class=\"dataframe\">\n",
              "  <thead>\n",
              "    <tr style=\"text-align: right;\">\n",
              "      <th></th>\n",
              "      <th>tweets</th>\n",
              "      <th>date</th>\n",
              "      <th>city</th>\n",
              "      <th>user_location</th>\n",
              "      <th>id</th>\n",
              "      <th>link</th>\n",
              "    </tr>\n",
              "  </thead>\n",
              "  <tbody>\n",
              "    <tr>\n",
              "      <th>0</th>\n",
              "      <td>La reina del flow juega con mis sentimientos🥺</td>\n",
              "      <td>2021-05-27 02:59:10</td>\n",
              "      <td>Cali</td>\n",
              "      <td>Bogotá, DC, Colombia</td>\n",
              "      <td>1397749188243427332</td>\n",
              "      <td>https://twitter.com/i/web/stuatus/139774918824...</td>\n",
              "    </tr>\n",
              "    <tr>\n",
              "      <th>1</th>\n",
              "      <td>La Reina del Flow 2 si está como mala 😒</td>\n",
              "      <td>2021-05-27 02:46:01</td>\n",
              "      <td>Cali</td>\n",
              "      <td>Bogotá, D.C., Colombia</td>\n",
              "      <td>1397745881110171650</td>\n",
              "      <td>https://twitter.com/i/web/stuatus/139774588111...</td>\n",
              "    </tr>\n",
              "    <tr>\n",
              "      <th>2</th>\n",
              "      <td>@marfsm479 Bebé la reina del flow</td>\n",
              "      <td>2021-05-27 02:42:20</td>\n",
              "      <td>Cali</td>\n",
              "      <td>Colombia</td>\n",
              "      <td>1397744954437472260</td>\n",
              "      <td>https://twitter.com/i/web/stuatus/139774495443...</td>\n",
              "    </tr>\n",
              "    <tr>\n",
              "      <th>3</th>\n",
              "      <td>Me estoy viendo dizque 'La Reina del Flow' y y...</td>\n",
              "      <td>2021-05-27 02:27:47</td>\n",
              "      <td>Cali</td>\n",
              "      <td>Cali, Colombia</td>\n",
              "      <td>1397741292445110274</td>\n",
              "      <td>https://twitter.com/i/web/stuatus/139774129244...</td>\n",
              "    </tr>\n",
              "    <tr>\n",
              "      <th>4</th>\n",
              "      <td>@callespace oe tú no te estás viendo la reina ...</td>\n",
              "      <td>2021-05-27 02:21:29</td>\n",
              "      <td>Cali</td>\n",
              "      <td>Colombia</td>\n",
              "      <td>1397739705626734594</td>\n",
              "      <td>https://twitter.com/i/web/stuatus/139773970562...</td>\n",
              "    </tr>\n",
              "    <tr>\n",
              "      <th>...</th>\n",
              "      <td>...</td>\n",
              "      <td>...</td>\n",
              "      <td>...</td>\n",
              "      <td>...</td>\n",
              "      <td>...</td>\n",
              "      <td>...</td>\n",
              "    </tr>\n",
              "    <tr>\n",
              "      <th>95</th>\n",
              "      <td>Callese que usted toma moringa y ve la Reina d...</td>\n",
              "      <td>2021-05-22 03:07:42</td>\n",
              "      <td>Cali</td>\n",
              "      <td>Cali, Colombia</td>\n",
              "      <td>1395939399586746369</td>\n",
              "      <td>https://twitter.com/i/web/stuatus/139593939958...</td>\n",
              "    </tr>\n",
              "    <tr>\n",
              "      <th>96</th>\n",
              "      <td>NO PUEDO CREER LO QUE SE VIENE LA PRÓXIMA SEMA...</td>\n",
              "      <td>2021-05-22 03:07:25</td>\n",
              "      <td>Cali</td>\n",
              "      <td>Colombia</td>\n",
              "      <td>1395939328325570562</td>\n",
              "      <td>https://twitter.com/i/web/stuatus/139593932832...</td>\n",
              "    </tr>\n",
              "    <tr>\n",
              "      <th>97</th>\n",
              "      <td>LA REINA DEL FLOW VA A ESTAR MUY BUENA LA OTRA...</td>\n",
              "      <td>2021-05-22 03:00:13</td>\n",
              "      <td>Cali</td>\n",
              "      <td>Colombia</td>\n",
              "      <td>1395937515119460359</td>\n",
              "      <td>https://twitter.com/i/web/stuatus/139593751511...</td>\n",
              "    </tr>\n",
              "    <tr>\n",
              "      <th>98</th>\n",
              "      <td>Ojo no le diga así a Yeimy que tal dice que......</td>\n",
              "      <td>2021-05-22 02:55:22</td>\n",
              "      <td>Cali</td>\n",
              "      <td>Cali, Colombia</td>\n",
              "      <td>1395936293641670658</td>\n",
              "      <td>https://twitter.com/i/web/stuatus/139593629364...</td>\n",
              "    </tr>\n",
              "    <tr>\n",
              "      <th>99</th>\n",
              "      <td>@arleth_fkngbtch Un personaje de la reina del ...</td>\n",
              "      <td>2021-05-22 02:40:31</td>\n",
              "      <td>Cali</td>\n",
              "      <td>Colombia</td>\n",
              "      <td>1395932559293534208</td>\n",
              "      <td>https://twitter.com/i/web/stuatus/139593255929...</td>\n",
              "    </tr>\n",
              "  </tbody>\n",
              "</table>\n",
              "<p>100 rows × 6 columns</p>\n",
              "</div>"
            ],
            "text/plain": [
              "                                               tweets  ...                                               link\n",
              "0       La reina del flow juega con mis sentimientos🥺  ...  https://twitter.com/i/web/stuatus/139774918824...\n",
              "1             La Reina del Flow 2 si está como mala 😒  ...  https://twitter.com/i/web/stuatus/139774588111...\n",
              "2                   @marfsm479 Bebé la reina del flow  ...  https://twitter.com/i/web/stuatus/139774495443...\n",
              "3   Me estoy viendo dizque 'La Reina del Flow' y y...  ...  https://twitter.com/i/web/stuatus/139774129244...\n",
              "4   @callespace oe tú no te estás viendo la reina ...  ...  https://twitter.com/i/web/stuatus/139773970562...\n",
              "..                                                ...  ...                                                ...\n",
              "95  Callese que usted toma moringa y ve la Reina d...  ...  https://twitter.com/i/web/stuatus/139593939958...\n",
              "96  NO PUEDO CREER LO QUE SE VIENE LA PRÓXIMA SEMA...  ...  https://twitter.com/i/web/stuatus/139593932832...\n",
              "97  LA REINA DEL FLOW VA A ESTAR MUY BUENA LA OTRA...  ...  https://twitter.com/i/web/stuatus/139593751511...\n",
              "98  Ojo no le diga así a Yeimy que tal dice que......  ...  https://twitter.com/i/web/stuatus/139593629364...\n",
              "99  @arleth_fkngbtch Un personaje de la reina del ...  ...  https://twitter.com/i/web/stuatus/139593255929...\n",
              "\n",
              "[100 rows x 6 columns]"
            ]
          },
          "metadata": {
            "tags": []
          },
          "execution_count": 5
        }
      ]
    },
    {
      "cell_type": "code",
      "metadata": {
        "colab": {
          "base_uri": "https://localhost:8080/",
          "height": 212
        },
        "id": "5JompminwJgj",
        "outputId": "af4395a8-6deb-4ed8-c7b7-3969575b7108"
      },
      "source": [
        "classifier = TextClassifier.load('sentiment')\n",
        "\n",
        "def sent_flair(texto):\n",
        "    sentence = Sentence(texto)\n",
        "    classifier.predict(sentence)\n",
        "    result = sentence.labels[0]\n",
        "    label = result.value\n",
        "    score = result.score\n",
        "    if label == 'POSITIVE':\n",
        "        return score\n",
        "    if label == 'NEGATIVE':\n",
        "        return -1 * score\n",
        "    return score\n",
        "\n",
        "data['sent_flair'] = data['tweets'].apply(lambda valor: sent_flair(valor))\n",
        "data.head()"
      ],
      "execution_count": 6,
      "outputs": [
        {
          "output_type": "stream",
          "text": [
            "2021-05-27 23:02:35,669 loading file /root/.flair/models/sentiment-en-mix-distillbert_4.pt\n"
          ],
          "name": "stdout"
        },
        {
          "output_type": "execute_result",
          "data": {
            "text/html": [
              "<div>\n",
              "<style scoped>\n",
              "    .dataframe tbody tr th:only-of-type {\n",
              "        vertical-align: middle;\n",
              "    }\n",
              "\n",
              "    .dataframe tbody tr th {\n",
              "        vertical-align: top;\n",
              "    }\n",
              "\n",
              "    .dataframe thead th {\n",
              "        text-align: right;\n",
              "    }\n",
              "</style>\n",
              "<table border=\"1\" class=\"dataframe\">\n",
              "  <thead>\n",
              "    <tr style=\"text-align: right;\">\n",
              "      <th></th>\n",
              "      <th>tweets</th>\n",
              "      <th>date</th>\n",
              "      <th>city</th>\n",
              "      <th>user_location</th>\n",
              "      <th>id</th>\n",
              "      <th>link</th>\n",
              "      <th>sent_flair</th>\n",
              "    </tr>\n",
              "  </thead>\n",
              "  <tbody>\n",
              "    <tr>\n",
              "      <th>0</th>\n",
              "      <td>La reina del flow juega con mis sentimientos🥺</td>\n",
              "      <td>2021-05-27 02:59:10</td>\n",
              "      <td>Cali</td>\n",
              "      <td>Bogotá, DC, Colombia</td>\n",
              "      <td>1397749188243427332</td>\n",
              "      <td>https://twitter.com/i/web/stuatus/139774918824...</td>\n",
              "      <td>-0.661991</td>\n",
              "    </tr>\n",
              "    <tr>\n",
              "      <th>1</th>\n",
              "      <td>La Reina del Flow 2 si está como mala 😒</td>\n",
              "      <td>2021-05-27 02:46:01</td>\n",
              "      <td>Cali</td>\n",
              "      <td>Bogotá, D.C., Colombia</td>\n",
              "      <td>1397745881110171650</td>\n",
              "      <td>https://twitter.com/i/web/stuatus/139774588111...</td>\n",
              "      <td>-0.574238</td>\n",
              "    </tr>\n",
              "    <tr>\n",
              "      <th>2</th>\n",
              "      <td>@marfsm479 Bebé la reina del flow</td>\n",
              "      <td>2021-05-27 02:42:20</td>\n",
              "      <td>Cali</td>\n",
              "      <td>Colombia</td>\n",
              "      <td>1397744954437472260</td>\n",
              "      <td>https://twitter.com/i/web/stuatus/139774495443...</td>\n",
              "      <td>0.937255</td>\n",
              "    </tr>\n",
              "    <tr>\n",
              "      <th>3</th>\n",
              "      <td>Me estoy viendo dizque 'La Reina del Flow' y y...</td>\n",
              "      <td>2021-05-27 02:27:47</td>\n",
              "      <td>Cali</td>\n",
              "      <td>Cali, Colombia</td>\n",
              "      <td>1397741292445110274</td>\n",
              "      <td>https://twitter.com/i/web/stuatus/139774129244...</td>\n",
              "      <td>-0.956400</td>\n",
              "    </tr>\n",
              "    <tr>\n",
              "      <th>4</th>\n",
              "      <td>@callespace oe tú no te estás viendo la reina ...</td>\n",
              "      <td>2021-05-27 02:21:29</td>\n",
              "      <td>Cali</td>\n",
              "      <td>Colombia</td>\n",
              "      <td>1397739705626734594</td>\n",
              "      <td>https://twitter.com/i/web/stuatus/139773970562...</td>\n",
              "      <td>0.744335</td>\n",
              "    </tr>\n",
              "  </tbody>\n",
              "</table>\n",
              "</div>"
            ],
            "text/plain": [
              "                                              tweets  ... sent_flair\n",
              "0      La reina del flow juega con mis sentimientos🥺  ...  -0.661991\n",
              "1            La Reina del Flow 2 si está como mala 😒  ...  -0.574238\n",
              "2                  @marfsm479 Bebé la reina del flow  ...   0.937255\n",
              "3  Me estoy viendo dizque 'La Reina del Flow' y y...  ...  -0.956400\n",
              "4  @callespace oe tú no te estás viendo la reina ...  ...   0.744335\n",
              "\n",
              "[5 rows x 7 columns]"
            ]
          },
          "metadata": {
            "tags": []
          },
          "execution_count": 6
        }
      ]
    },
    {
      "cell_type": "code",
      "metadata": {
        "colab": {
          "base_uri": "https://localhost:8080/",
          "height": 402
        },
        "id": "haPIYcQMwJdj",
        "outputId": "323858e5-3611-4980-e18e-b80f02edb21c"
      },
      "source": [
        "data_ordenado = data[['tweets', 'sent_flair']].sort_values('sent_flair')\n",
        "data_ordenado"
      ],
      "execution_count": 7,
      "outputs": [
        {
          "output_type": "execute_result",
          "data": {
            "text/html": [
              "<div>\n",
              "<style scoped>\n",
              "    .dataframe tbody tr th:only-of-type {\n",
              "        vertical-align: middle;\n",
              "    }\n",
              "\n",
              "    .dataframe tbody tr th {\n",
              "        vertical-align: top;\n",
              "    }\n",
              "\n",
              "    .dataframe thead th {\n",
              "        text-align: right;\n",
              "    }\n",
              "</style>\n",
              "<table border=\"1\" class=\"dataframe\">\n",
              "  <thead>\n",
              "    <tr style=\"text-align: right;\">\n",
              "      <th></th>\n",
              "      <th>tweets</th>\n",
              "      <th>sent_flair</th>\n",
              "    </tr>\n",
              "  </thead>\n",
              "  <tbody>\n",
              "    <tr>\n",
              "      <th>38</th>\n",
              "      <td>📺 No te pierdas #LaReinaDelFlow2 a las 9:00 p....</td>\n",
              "      <td>-0.992179</td>\n",
              "    </tr>\n",
              "    <tr>\n",
              "      <th>51</th>\n",
              "      <td>no me vi la reina del flow bien me siento dece...</td>\n",
              "      <td>-0.992020</td>\n",
              "    </tr>\n",
              "    <tr>\n",
              "      <th>56</th>\n",
              "      <td>NO ME ESTA DEJANDO VER LA REINA DEL FLOW ME QU...</td>\n",
              "      <td>-0.984719</td>\n",
              "    </tr>\n",
              "    <tr>\n",
              "      <th>12</th>\n",
              "      <td>Por mi salud mental, no veré más la reina del ...</td>\n",
              "      <td>-0.982328</td>\n",
              "    </tr>\n",
              "    <tr>\n",
              "      <th>31</th>\n",
              "      <td>Lo rico de la Reina del Flow era la sed de ven...</td>\n",
              "      <td>-0.981599</td>\n",
              "    </tr>\n",
              "    <tr>\n",
              "      <th>...</th>\n",
              "      <td>...</td>\n",
              "      <td>...</td>\n",
              "    </tr>\n",
              "    <tr>\n",
              "      <th>70</th>\n",
              "      <td>@Monikalmanza Jajajaja, total!!!\\nPreguntale a...</td>\n",
              "      <td>0.999618</td>\n",
              "    </tr>\n",
              "    <tr>\n",
              "      <th>68</th>\n",
              "      <td>Top Series Netflix 🇨🇴 Dom23May\\n\\n1. Quien mat...</td>\n",
              "      <td>0.999977</td>\n",
              "    </tr>\n",
              "    <tr>\n",
              "      <th>62</th>\n",
              "      <td>Top Series Netflix 🇨🇴 Lun24May\\n\\n1. Quien mat...</td>\n",
              "      <td>0.999988</td>\n",
              "    </tr>\n",
              "    <tr>\n",
              "      <th>17</th>\n",
              "      <td>Top Series Netflix 🇨🇴 Mie26May\\n\\n1. Quien mat...</td>\n",
              "      <td>0.999991</td>\n",
              "    </tr>\n",
              "    <tr>\n",
              "      <th>81</th>\n",
              "      <td>Top Series Netflix 🇨🇴 Sab22May\\n\\n1. Quien mat...</td>\n",
              "      <td>0.999993</td>\n",
              "    </tr>\n",
              "  </tbody>\n",
              "</table>\n",
              "<p>100 rows × 2 columns</p>\n",
              "</div>"
            ],
            "text/plain": [
              "                                               tweets  sent_flair\n",
              "38  📺 No te pierdas #LaReinaDelFlow2 a las 9:00 p....   -0.992179\n",
              "51  no me vi la reina del flow bien me siento dece...   -0.992020\n",
              "56  NO ME ESTA DEJANDO VER LA REINA DEL FLOW ME QU...   -0.984719\n",
              "12  Por mi salud mental, no veré más la reina del ...   -0.982328\n",
              "31  Lo rico de la Reina del Flow era la sed de ven...   -0.981599\n",
              "..                                                ...         ...\n",
              "70  @Monikalmanza Jajajaja, total!!!\\nPreguntale a...    0.999618\n",
              "68  Top Series Netflix 🇨🇴 Dom23May\\n\\n1. Quien mat...    0.999977\n",
              "62  Top Series Netflix 🇨🇴 Lun24May\\n\\n1. Quien mat...    0.999988\n",
              "17  Top Series Netflix 🇨🇴 Mie26May\\n\\n1. Quien mat...    0.999991\n",
              "81  Top Series Netflix 🇨🇴 Sab22May\\n\\n1. Quien mat...    0.999993\n",
              "\n",
              "[100 rows x 2 columns]"
            ]
          },
          "metadata": {
            "tags": []
          },
          "execution_count": 7
        }
      ]
    },
    {
      "cell_type": "markdown",
      "metadata": {
        "id": "ZF3JGaKUt_6F"
      },
      "source": [
        "###  `[10 pts]` Punto 2: ¿Cuál es el tuit más positivo y más negativo?"
      ]
    },
    {
      "cell_type": "code",
      "metadata": {
        "colab": {
          "base_uri": "https://localhost:8080/",
          "height": 77
        },
        "id": "CaNRf3zvwJRt",
        "outputId": "93e621ad-6dbc-4e1f-ccd3-1e3cdaaaa1ac"
      },
      "source": [
        "# Tweet mas negativo\n",
        "\n",
        "data_ordenado[['tweets', 'sent_flair']].head(1)"
      ],
      "execution_count": 8,
      "outputs": [
        {
          "output_type": "execute_result",
          "data": {
            "text/html": [
              "<div>\n",
              "<style scoped>\n",
              "    .dataframe tbody tr th:only-of-type {\n",
              "        vertical-align: middle;\n",
              "    }\n",
              "\n",
              "    .dataframe tbody tr th {\n",
              "        vertical-align: top;\n",
              "    }\n",
              "\n",
              "    .dataframe thead th {\n",
              "        text-align: right;\n",
              "    }\n",
              "</style>\n",
              "<table border=\"1\" class=\"dataframe\">\n",
              "  <thead>\n",
              "    <tr style=\"text-align: right;\">\n",
              "      <th></th>\n",
              "      <th>tweets</th>\n",
              "      <th>sent_flair</th>\n",
              "    </tr>\n",
              "  </thead>\n",
              "  <tbody>\n",
              "    <tr>\n",
              "      <th>38</th>\n",
              "      <td>📺 No te pierdas #LaReinaDelFlow2 a las 9:00 p....</td>\n",
              "      <td>-0.992179</td>\n",
              "    </tr>\n",
              "  </tbody>\n",
              "</table>\n",
              "</div>"
            ],
            "text/plain": [
              "                                               tweets  sent_flair\n",
              "38  📺 No te pierdas #LaReinaDelFlow2 a las 9:00 p....   -0.992179"
            ]
          },
          "metadata": {
            "tags": []
          },
          "execution_count": 8
        }
      ]
    },
    {
      "cell_type": "code",
      "metadata": {
        "colab": {
          "base_uri": "https://localhost:8080/",
          "height": 94
        },
        "id": "bU9Jwmyo3AV7",
        "outputId": "12305bb5-b7c7-4690-c3d2-b41dbaa8feae"
      },
      "source": [
        "# Tweet mas positivo\n",
        "\n",
        "pd.set_option('display.max_colwidth', None)\n",
        "\n",
        "data_ordenado[['tweets', 'sent_flair']].tail(1)"
      ],
      "execution_count": 9,
      "outputs": [
        {
          "output_type": "execute_result",
          "data": {
            "text/html": [
              "<div>\n",
              "<style scoped>\n",
              "    .dataframe tbody tr th:only-of-type {\n",
              "        vertical-align: middle;\n",
              "    }\n",
              "\n",
              "    .dataframe tbody tr th {\n",
              "        vertical-align: top;\n",
              "    }\n",
              "\n",
              "    .dataframe thead th {\n",
              "        text-align: right;\n",
              "    }\n",
              "</style>\n",
              "<table border=\"1\" class=\"dataframe\">\n",
              "  <thead>\n",
              "    <tr style=\"text-align: right;\">\n",
              "      <th></th>\n",
              "      <th>tweets</th>\n",
              "      <th>sent_flair</th>\n",
              "    </tr>\n",
              "  </thead>\n",
              "  <tbody>\n",
              "    <tr>\n",
              "      <th>81</th>\n",
              "      <td>Top Series Netflix 🇨🇴 Sab22May\\n\\n1. Quien mató a Sara\\n2. Pablo Escobar, el patrón del mal\\n3. Jurassic world campo cretácico\\n4. El inocente\\n5. La reina del flow\\n6. Chica Vampiro\\n7. Yo soy Betty la fea\\n8. Sexify\\n9. Falsa identidad\\n10. El legado de Jupiter</td>\n",
              "      <td>0.999993</td>\n",
              "    </tr>\n",
              "  </tbody>\n",
              "</table>\n",
              "</div>"
            ],
            "text/plain": [
              "                                                                                                                                                                                                                                                                     tweets  sent_flair\n",
              "81  Top Series Netflix 🇨🇴 Sab22May\\n\\n1. Quien mató a Sara\\n2. Pablo Escobar, el patrón del mal\\n3. Jurassic world campo cretácico\\n4. El inocente\\n5. La reina del flow\\n6. Chica Vampiro\\n7. Yo soy Betty la fea\\n8. Sexify\\n9. Falsa identidad\\n10. El legado de Jupiter    0.999993"
            ]
          },
          "metadata": {
            "tags": []
          },
          "execution_count": 9
        }
      ]
    },
    {
      "cell_type": "markdown",
      "metadata": {
        "id": "qs_9FMEOt_6G"
      },
      "source": [
        "###  `[10 pts]` Punto 3: ¿Cuántos tuits positivos/negativos hay en sus datos?"
      ]
    },
    {
      "cell_type": "code",
      "metadata": {
        "colab": {
          "base_uri": "https://localhost:8080/"
        },
        "id": "7e2e_bpnDhLe",
        "outputId": "cad0630f-6677-4f12-81f8-e190c35eeb0c"
      },
      "source": [
        "# Cantidad de tweets positivos\n",
        "\n",
        "len(data[data[\"sent_flair\"] > 0])"
      ],
      "execution_count": 10,
      "outputs": [
        {
          "output_type": "execute_result",
          "data": {
            "text/plain": [
              "68"
            ]
          },
          "metadata": {
            "tags": []
          },
          "execution_count": 10
        }
      ]
    },
    {
      "cell_type": "code",
      "metadata": {
        "colab": {
          "base_uri": "https://localhost:8080/"
        },
        "id": "gm5biNFjDx1Q",
        "outputId": "2ea071b7-815e-4824-994d-5a1280bea36a"
      },
      "source": [
        "# Cantidad de tweets negativos\n",
        "\n",
        "len(data[data[\"sent_flair\"] < 0])"
      ],
      "execution_count": 11,
      "outputs": [
        {
          "output_type": "execute_result",
          "data": {
            "text/plain": [
              "32"
            ]
          },
          "metadata": {
            "tags": []
          },
          "execution_count": 11
        }
      ]
    },
    {
      "cell_type": "markdown",
      "metadata": {
        "id": "9VQl2-aBt_6H"
      },
      "source": [
        "###  `[5 pts]` : Punto 4: Una visualización sobre sus datos"
      ]
    }
  ]
}